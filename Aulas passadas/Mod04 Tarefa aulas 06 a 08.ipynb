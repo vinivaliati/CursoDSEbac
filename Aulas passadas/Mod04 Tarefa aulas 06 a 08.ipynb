{
 "cells": [
  {
   "cell_type": "markdown",
   "metadata": {},
   "source": [
    "# Tarefa 03\n",
    "\n",
    "- Leia os enunciados com atenção\n",
    "- Saiba que pode haver mais de uma resposta correta\n",
    "- Insira novas células de código sempre que achar necessário\n",
    "- Em caso de dúvidas, procure os Tutores\n",
    "- Divirta-se :)"
   ]
  },
  {
   "cell_type": "code",
   "execution_count": 24,
   "metadata": {},
   "outputs": [],
   "source": [
    "import pandas as pd\n",
    "import requests\n",
    "import datetime"
   ]
  },
  {
   "cell_type": "markdown",
   "metadata": {},
   "source": [
    "####  1) Lendo de APIs\n",
    "Vimos em aula como carregar dados públicos do governo através de um API (*Application Programming Interface*). No exemplo de aula, baixamos os dados de pedidos de verificação de limites (PVL) realizados por estados, e selecionamos apenas aqueles referentes ao estado de São Paulo.\n",
    "\n",
    "1. Repita os mesmos passos feitos em aula, mas selecione os PVLs realizados por municípios no estado do Rio de Janeiro.\n",
    "2. Quais são os três *status* das solicitações mais frequentes na base? Quais são suas frequências?\n",
    "3. Construa uma nova variável que contenha o ano do **status**. Observe que ```data_status``` vem como tipo *object* no **DataFrame**. Dica: você pode usar o método ```.str``` para transformar o tipo da variável em string, em seguida um método como [**slice()**](https://pandas.pydata.org/docs/reference/api/pandas.Series.str.slice.html) ou [**split()**](https://pandas.pydata.org/pandas-docs/stable/reference/api/pandas.Series.str.split.html).\n",
    "4. Indique a frequência de cada ano do campo construído no item (3)."
   ]
  },
  {
   "cell_type": "code",
   "execution_count": 25,
   "metadata": {},
   "outputs": [],
   "source": [
    "# 1) Seu código aqui\n",
    "url = 'https://apidatalake.tesouro.gov.br/ords/sadipem/tt/pvl?uf=RJ&tipo_interessado=Munic%C3%ADpio'\n",
    "r = requests.get(url)"
   ]
  },
  {
   "cell_type": "code",
   "execution_count": 26,
   "metadata": {},
   "outputs": [
    {
     "data": {
      "text/plain": [
       "200"
      ]
     },
     "execution_count": 26,
     "metadata": {},
     "output_type": "execute_result"
    }
   ],
   "source": [
    "# 2) Seu código aqui\n",
    "r = requests.get(url)\n",
    "r.status_code"
   ]
  },
  {
   "cell_type": "code",
   "execution_count": 37,
   "metadata": {},
   "outputs": [],
   "source": [
    "# 3) Seu código aqui\n",
    "data_json = r.json()"
   ]
  },
  {
   "cell_type": "code",
   "execution_count": 29,
   "metadata": {},
   "outputs": [
    {
     "data": {
      "text/plain": [
       "status\n",
       "Deferido                                                 40.540541\n",
       "Arquivado                                                20.463320\n",
       "Regularizado                                             10.038610\n",
       "Arquivado por decurso de prazo                            9.266409\n",
       "Deferido (PVL-IF)                                         9.266409\n",
       "Encaminhado à PGFN com manifestação técnica favorável     5.405405\n",
       "Arquivado a pedido                                        2.702703\n",
       "Em retificação pelo interessado                           1.158301\n",
       "Arquivado a pedido (PVL-IF)                               0.386100\n",
       "Arquivado pela STN                                        0.386100\n",
       "Em análise                                                0.386100\n",
       "Name: proportion, dtype: float64"
      ]
     },
     "execution_count": 29,
     "metadata": {},
     "output_type": "execute_result"
    }
   ],
   "source": [
    "df = pd.DataFrame(data_json['items'])\n",
    "df.status.value_counts(normalize=True) *100"
   ]
  },
  {
   "cell_type": "code",
   "execution_count": 33,
   "metadata": {},
   "outputs": [
    {
     "data": {
      "text/html": [
       "<div>\n",
       "<style scoped>\n",
       "    .dataframe tbody tr th:only-of-type {\n",
       "        vertical-align: middle;\n",
       "    }\n",
       "\n",
       "    .dataframe tbody tr th {\n",
       "        vertical-align: top;\n",
       "    }\n",
       "\n",
       "    .dataframe thead th {\n",
       "        text-align: right;\n",
       "    }\n",
       "</style>\n",
       "<table border=\"1\" class=\"dataframe\">\n",
       "  <thead>\n",
       "    <tr style=\"text-align: right;\">\n",
       "      <th></th>\n",
       "      <th>id_pleito</th>\n",
       "      <th>tipo_interessado</th>\n",
       "      <th>interessado</th>\n",
       "      <th>cod_ibge</th>\n",
       "      <th>uf</th>\n",
       "      <th>num_pvl</th>\n",
       "      <th>status</th>\n",
       "      <th>num_processo</th>\n",
       "      <th>data_protocolo</th>\n",
       "      <th>tipo_operacao</th>\n",
       "      <th>finalidade</th>\n",
       "      <th>tipo_credor</th>\n",
       "      <th>credor</th>\n",
       "      <th>moeda</th>\n",
       "      <th>valor</th>\n",
       "      <th>pvl_assoc_divida</th>\n",
       "      <th>pvl_contradado_credor</th>\n",
       "      <th>data_status</th>\n",
       "      <th>ano</th>\n",
       "    </tr>\n",
       "  </thead>\n",
       "  <tbody>\n",
       "    <tr>\n",
       "      <th>0</th>\n",
       "      <td>5290</td>\n",
       "      <td>Município</td>\n",
       "      <td>Casimiro de Abreu</td>\n",
       "      <td>3301306</td>\n",
       "      <td>RJ</td>\n",
       "      <td>None</td>\n",
       "      <td>Deferido</td>\n",
       "      <td>17944.000078/2014-81</td>\n",
       "      <td>2014-11-28T02:00:00Z</td>\n",
       "      <td>Operação contratual interna</td>\n",
       "      <td>PAC 2 - Pró-Transporte - Pavimentação e Qualif...</td>\n",
       "      <td>Instituição Financeira Nacional</td>\n",
       "      <td>Caixa Econômica Federal</td>\n",
       "      <td>Real</td>\n",
       "      <td>15024627.28</td>\n",
       "      <td>1</td>\n",
       "      <td>0</td>\n",
       "      <td>2014-12-12</td>\n",
       "      <td>2014</td>\n",
       "    </tr>\n",
       "    <tr>\n",
       "      <th>1</th>\n",
       "      <td>61009</td>\n",
       "      <td>Município</td>\n",
       "      <td>Rio das Flores</td>\n",
       "      <td>3304508</td>\n",
       "      <td>RJ</td>\n",
       "      <td>PVL02.007214/2022-19</td>\n",
       "      <td>Arquivado por decurso de prazo</td>\n",
       "      <td>17944.103071/2022-20</td>\n",
       "      <td>2022-08-12T18:48:50Z</td>\n",
       "      <td>Operação contratual interna</td>\n",
       "      <td>Infraestrutura</td>\n",
       "      <td>Instituição Financeira Nacional</td>\n",
       "      <td>Caixa Econômica Federal</td>\n",
       "      <td>Real</td>\n",
       "      <td>6000000.00</td>\n",
       "      <td>0</td>\n",
       "      <td>0</td>\n",
       "      <td>2023-02-10</td>\n",
       "      <td>2023</td>\n",
       "    </tr>\n",
       "    <tr>\n",
       "      <th>2</th>\n",
       "      <td>66228</td>\n",
       "      <td>Município</td>\n",
       "      <td>São Pedro da Aldeia</td>\n",
       "      <td>3305208</td>\n",
       "      <td>RJ</td>\n",
       "      <td>PVL02.003177/2023-42</td>\n",
       "      <td>Deferido (PVL-IF)</td>\n",
       "      <td>None</td>\n",
       "      <td>None</td>\n",
       "      <td>Operação contratual interna</td>\n",
       "      <td>Infraestrutura</td>\n",
       "      <td>Instituição Financeira Nacional</td>\n",
       "      <td>Banco do Brasil S/A</td>\n",
       "      <td>Real</td>\n",
       "      <td>5500000.00</td>\n",
       "      <td>0</td>\n",
       "      <td>0</td>\n",
       "      <td>2023-09-12</td>\n",
       "      <td>2023</td>\n",
       "    </tr>\n",
       "    <tr>\n",
       "      <th>3</th>\n",
       "      <td>6363</td>\n",
       "      <td>Município</td>\n",
       "      <td>Rio Claro</td>\n",
       "      <td>3304409</td>\n",
       "      <td>RJ</td>\n",
       "      <td>None</td>\n",
       "      <td>Regularizado</td>\n",
       "      <td>17944.000328/2008-34</td>\n",
       "      <td>2011-06-01T03:00:00Z</td>\n",
       "      <td>Operação contratual interna</td>\n",
       "      <td>Regularização de Dívida - Energia Elétrica</td>\n",
       "      <td>Empresa Não Estatal</td>\n",
       "      <td>Light - Serviços de Eletricidade S/A</td>\n",
       "      <td>Real</td>\n",
       "      <td>6733230.99</td>\n",
       "      <td>0</td>\n",
       "      <td>0</td>\n",
       "      <td>2011-07-22</td>\n",
       "      <td>2011</td>\n",
       "    </tr>\n",
       "    <tr>\n",
       "      <th>4</th>\n",
       "      <td>7907</td>\n",
       "      <td>Município</td>\n",
       "      <td>Mesquita</td>\n",
       "      <td>3302858</td>\n",
       "      <td>RJ</td>\n",
       "      <td>None</td>\n",
       "      <td>Deferido</td>\n",
       "      <td>17944.000675/2010-81</td>\n",
       "      <td>2010-09-06T03:00:00Z</td>\n",
       "      <td>Operação contratual interna</td>\n",
       "      <td>PNAFM</td>\n",
       "      <td>Instituição Financeira Nacional</td>\n",
       "      <td>Caixa Econômica Federal</td>\n",
       "      <td>Real</td>\n",
       "      <td>5106563.00</td>\n",
       "      <td>1</td>\n",
       "      <td>0</td>\n",
       "      <td>2010-09-20</td>\n",
       "      <td>2010</td>\n",
       "    </tr>\n",
       "  </tbody>\n",
       "</table>\n",
       "</div>"
      ],
      "text/plain": [
       "   id_pleito tipo_interessado          interessado  cod_ibge  uf  \\\n",
       "0       5290        Município    Casimiro de Abreu   3301306  RJ   \n",
       "1      61009        Município       Rio das Flores   3304508  RJ   \n",
       "2      66228        Município  São Pedro da Aldeia   3305208  RJ   \n",
       "3       6363        Município            Rio Claro   3304409  RJ   \n",
       "4       7907        Município             Mesquita   3302858  RJ   \n",
       "\n",
       "                num_pvl                          status          num_processo  \\\n",
       "0                  None                        Deferido  17944.000078/2014-81   \n",
       "1  PVL02.007214/2022-19  Arquivado por decurso de prazo  17944.103071/2022-20   \n",
       "2  PVL02.003177/2023-42               Deferido (PVL-IF)                  None   \n",
       "3                  None                    Regularizado  17944.000328/2008-34   \n",
       "4                  None                        Deferido  17944.000675/2010-81   \n",
       "\n",
       "         data_protocolo                tipo_operacao  \\\n",
       "0  2014-11-28T02:00:00Z  Operação contratual interna   \n",
       "1  2022-08-12T18:48:50Z  Operação contratual interna   \n",
       "2                  None  Operação contratual interna   \n",
       "3  2011-06-01T03:00:00Z  Operação contratual interna   \n",
       "4  2010-09-06T03:00:00Z  Operação contratual interna   \n",
       "\n",
       "                                          finalidade  \\\n",
       "0  PAC 2 - Pró-Transporte - Pavimentação e Qualif...   \n",
       "1                                     Infraestrutura   \n",
       "2                                     Infraestrutura   \n",
       "3         Regularização de Dívida - Energia Elétrica   \n",
       "4                                              PNAFM   \n",
       "\n",
       "                       tipo_credor                                credor  \\\n",
       "0  Instituição Financeira Nacional               Caixa Econômica Federal   \n",
       "1  Instituição Financeira Nacional               Caixa Econômica Federal   \n",
       "2  Instituição Financeira Nacional                   Banco do Brasil S/A   \n",
       "3              Empresa Não Estatal  Light - Serviços de Eletricidade S/A   \n",
       "4  Instituição Financeira Nacional               Caixa Econômica Federal   \n",
       "\n",
       "  moeda        valor  pvl_assoc_divida  pvl_contradado_credor data_status  \\\n",
       "0  Real  15024627.28                 1                      0  2014-12-12   \n",
       "1  Real   6000000.00                 0                      0  2023-02-10   \n",
       "2  Real   5500000.00                 0                      0  2023-09-12   \n",
       "3  Real   6733230.99                 0                      0  2011-07-22   \n",
       "4  Real   5106563.00                 1                      0  2010-09-20   \n",
       "\n",
       "    ano  \n",
       "0  2014  \n",
       "1  2023  \n",
       "2  2023  \n",
       "3  2011  \n",
       "4  2010  "
      ]
     },
     "execution_count": 33,
     "metadata": {},
     "output_type": "execute_result"
    }
   ],
   "source": [
    "df['data_status'] = pd.to_datetime(df['data_status'], format='%d/%m/%Y')\n",
    "df['ano'] = df['data_status'].dt.year\n",
    "df.head()"
   ]
  },
  {
   "cell_type": "markdown",
   "metadata": {},
   "source": [
    "####  2) Melhorando a interação com o API\n",
    "Observe dois URLs de consultas diferentes, por exemplo o URL utilizado em aula, e o URL feito no exercício anterior. Compare-os e observe as diferenças.\n",
    "\n",
    "1. Faça uma função em Python que recebe como argumento o UF da consulta e o tipo de interessado (```'Estado'```ou ```Município```), e que devolve os dados da consulta no formato *DataFrame*.\n",
    "2. Quantas solicitações para o Estado podem ser consultadas para Minas Gerais com *status* em 'Arquivado por decurso de prazo' estão registradas?\n",
    "3. Qual é o município da Bahia com mais solicitações deferidas?\n",
    "4. Salve um arquivo .csv com os dados de solicitações da Bahia, com interessado = 'Estado'"
   ]
  },
  {
   "cell_type": "code",
   "execution_count": 50,
   "metadata": {},
   "outputs": [],
   "source": [
    "#1) Seu código aqui\n",
    "Estado = 'BA'\n",
    "categoria = 'Estado'  # Estado ou Munic%C3%ADpio\n",
    "url = f'https://apidatalake.tesouro.gov.br/ords/sadipem/tt/pvl?uf={Estado}&tipo_interessado={categoria}'\n",
    "r = requests.get(url)\n",
    "r.status_code\n",
    "data_json = r.json()\n",
    "df = pd.DataFrame(data_json['items'])"
   ]
  },
  {
   "cell_type": "code",
   "execution_count": 43,
   "metadata": {},
   "outputs": [
    {
     "data": {
      "text/plain": [
       "status\n",
       "Encaminhado à PGFN com manifestação técnica favorável    20\n",
       "Deferido                                                  7\n",
       "Arquivado a pedido                                        5\n",
       "Arquivado                                                 3\n",
       "Arquivado pela STN                                        3\n",
       "Arquivado por decurso de prazo                            1\n",
       "Indeferido                                                1\n",
       "Name: count, dtype: int64"
      ]
     },
     "execution_count": 43,
     "metadata": {},
     "output_type": "execute_result"
    }
   ],
   "source": [
    "# 2) Seu código aqui\n",
    "df.status.value_counts()"
   ]
  },
  {
   "cell_type": "code",
   "execution_count": 49,
   "metadata": {},
   "outputs": [
    {
     "data": {
      "text/plain": [
       "interessado\n",
       "Luís Eduardo Magalhães    16\n",
       "Vitória da Conquista      12\n",
       "Barreiras                 10\n",
       "Camaçari                  10\n",
       "Lauro de Freitas          10\n",
       "                          ..\n",
       "Malhada                    1\n",
       "Sobradinho                 1\n",
       "Cafarnaum                  1\n",
       "Itapicuru                  1\n",
       "Itagibá                    1\n",
       "Name: count, Length: 185, dtype: int64"
      ]
     },
     "execution_count": 49,
     "metadata": {},
     "output_type": "execute_result"
    }
   ],
   "source": [
    "# 3) Seu código aqui\n",
    "df_status_especifico = df[df['status'] == 'Deferido']\n",
    "df_status_especifico['interessado'].value_counts()"
   ]
  },
  {
   "cell_type": "code",
   "execution_count": 51,
   "metadata": {},
   "outputs": [],
   "source": [
    "# 4) Seu código aqui\n",
    "df.to_csv('SolicitacoesBahia.csv', index=False)"
   ]
  }
 ],
 "metadata": {
  "kernelspec": {
   "display_name": "Python 3",
   "language": "python",
   "name": "python3"
  },
  "language_info": {
   "codemirror_mode": {
    "name": "ipython",
    "version": 3
   },
   "file_extension": ".py",
   "mimetype": "text/x-python",
   "name": "python",
   "nbconvert_exporter": "python",
   "pygments_lexer": "ipython3",
   "version": "3.12.0"
  }
 },
 "nbformat": 4,
 "nbformat_minor": 4
}
